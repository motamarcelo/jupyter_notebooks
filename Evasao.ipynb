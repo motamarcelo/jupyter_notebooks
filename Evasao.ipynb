{
 "cells": [
  {
   "cell_type": "code",
   "execution_count": 4,
   "metadata": {},
   "outputs": [],
   "source": [
    "import os\n",
    "import tarfile\n",
    "from six.moves import urllib\n",
    "\n",
    "EVASION_PATH = os.path.join(\"datasets\", \"evasao\")\n"
   ]
  },
  {
   "cell_type": "code",
   "execution_count": 5,
   "metadata": {},
   "outputs": [],
   "source": [
    "import pandas as pd\n",
    "\n",
    "def load_evasion_data(evasion_path=EVASION_PATH):\n",
    "    csv_path = os.path.join(evasion_path, \"evasao.csv\")\n",
    "    return pd.read_csv(csv_path)\n",
    "\n",
    "evasao = load_evasion_data()"
   ]
  },
  {
   "cell_type": "code",
   "execution_count": 9,
   "metadata": {},
   "outputs": [
    {
     "name": "stdout",
     "output_type": "stream",
     "text": [
      "<class 'pandas.core.frame.DataFrame'>\n",
      "RangeIndex: 2603 entries, 0 to 2602\n",
      "Data columns (total 21 columns):\n",
      " #   Column                         Non-Null Count  Dtype  \n",
      "---  ------                         --------------  -----  \n",
      " 0   curriculum_id                  2603 non-null   int64  \n",
      " 1   student_id                     2603 non-null   int64  \n",
      " 2   centro                         2603 non-null   object \n",
      " 3   department_name                2603 non-null   object \n",
      " 4   course_name                    2603 non-null   object \n",
      " 5   student_age_at_initial_period  2603 non-null   int64  \n",
      " 6   birthday                       2603 non-null   object \n",
      " 7   birth_place                    2600 non-null   object \n",
      " 8   ingress_form                   2603 non-null   object \n",
      " 9   locks_number                   2603 non-null   int64  \n",
      " 10  required_ch_progress           2603 non-null   float64\n",
      " 11  optative_ch_progress           2603 non-null   float64\n",
      " 12  curriculum_status              2603 non-null   object \n",
      " 13  leaving_reason                 1517 non-null   object \n",
      " 14  mc                             2603 non-null   float64\n",
      " 15  course_mc                      2603 non-null   float64\n",
      " 16  iepl                           2603 non-null   float64\n",
      " 17  course_iepl                    2603 non-null   float64\n",
      " 18  iech                           2603 non-null   float64\n",
      " 19  course_iech                    2603 non-null   float64\n",
      " 20  iea                            2603 non-null   float64\n",
      "dtypes: float64(9), int64(4), object(8)\n",
      "memory usage: 427.2+ KB\n"
     ]
    }
   ],
   "source": [
    "evasao.info()"
   ]
  },
  {
   "cell_type": "code",
   "execution_count": null,
   "metadata": {},
   "outputs": [],
   "source": []
  }
 ],
 "metadata": {
  "kernelspec": {
   "display_name": "jupyter-env",
   "language": "python",
   "name": "python3"
  },
  "language_info": {
   "codemirror_mode": {
    "name": "ipython",
    "version": 3
   },
   "file_extension": ".py",
   "mimetype": "text/x-python",
   "name": "python",
   "nbconvert_exporter": "python",
   "pygments_lexer": "ipython3",
   "version": "3.12.3"
  }
 },
 "nbformat": 4,
 "nbformat_minor": 2
}
